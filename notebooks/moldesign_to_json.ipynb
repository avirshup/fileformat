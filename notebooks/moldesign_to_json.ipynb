{
 "cells": [
  {
   "cell_type": "markdown",
   "metadata": {},
   "source": [
    "<center><h1>Conversion methods</h1></center>\n",
    "\n",
    "This notebook defines the methods used to convert a [Molecular Design Toolkit](http://moldesign.bionano.autodesk.com) object to JSON.\n",
    "\n",
    "To \"import\" these methods into another notebook, run\n",
    "`%run moldesign_to_json.ipynb`\n",
    "\n",
    "#### For convenience:\n",
    "We'll return these objects as a python JSON-like object - you can interact with these as if they were JSON objects in javascript (in particular, you can hit `tab` to see what's in them)."
   ]
  },
  {
   "cell_type": "code",
   "execution_count": 8,
   "metadata": {
    "ExecuteTime": {
     "end_time": "2016-09-24T21:19:53.497737",
     "start_time": "2016-09-24T21:19:53.489038"
    },
    "collapsed": true
   },
   "outputs": [],
   "source": [
    "import json, uuid\n",
    "\n",
    "class PyJSON(dict):\n",
    "    COUNTER = 0\n",
    "    def __getattr__(self, key):\n",
    "        try: return self[key]\n",
    "        except KeyError: raise AttributeError\n",
    "    def __setattr__(self, key, val):\n",
    "        self[key] = val\n",
    "    def __dir__(self):\n",
    "        return self.keys()\n",
    "    def dumps(self):\n",
    "        return json.dumps(self)\n",
    "    def display(self):\n",
    "        \"\"\"From http://stackoverflow.com/questions/18873066\"\"\"\n",
    "        from IPython.display import display_html, display_javascript\n",
    "        PyJSON.COUNTER += 1\n",
    "        display_html('<div id=\"{}\" style=\"height: 600px; width:100%;\"></div>'.format(self.COUNTER),\n",
    "                     raw=True)\n",
    "        display_javascript(('require([\"https://rawgit.com/caldwell/renderjson/master/renderjson.js\"], function() {'\n",
    "                            \"\\ndocument.getElementById('%s').appendChild(renderjson(%s))\"\n",
    "                            \"\\n});\") % (self.COUNTER, self.dumps()), raw=True)"
   ]
  },
  {
   "cell_type": "markdown",
   "metadata": {},
   "source": [
    "## Drivers\n",
    "\n",
    "These are the routines you call to convert `moldesign` objects into JSON. Because MDT's design, there's one for single points and one for trajectories, but they both produce the same type of JSON objects."
   ]
  },
  {
   "cell_type": "code",
   "execution_count": 6,
   "metadata": {
    "ExecuteTime": {
     "end_time": "2016-09-24T21:18:50.131156",
     "start_time": "2016-09-24T21:18:50.125108"
    },
    "collapsed": true
   },
   "outputs": [],
   "source": [
    "def convert(mol, provenance=None):\n",
    "    json = PyJSON(name=mol.name)\n",
    "    if provenance is not None:\n",
    "        json.provenance = provenance\n",
    "    json.topology = create_topology_object(mol)\n",
    "    json.states = create_states(mol)\n",
    "    return json\n",
    "\n",
    "def convert_trajectory(traj, **kwargs):\n",
    "    json = convert(traj.mol, **kwargs)\n",
    "    json.states = create_states(traj)\n",
    "    return json"
   ]
  },
  {
   "cell_type": "markdown",
   "metadata": {},
   "source": [
    "# Sub-objects\n",
    "Everything below drives the converter.\n",
    "\n",
    "First, here are routines to create these top-level objects:\n",
    " - `topology`\n",
    " - `states`"
   ]
  },
  {
   "cell_type": "code",
   "execution_count": 15,
   "metadata": {
    "ExecuteTime": {
     "end_time": "2016-09-24T19:39:09.806974",
     "start_time": "2016-09-24T19:39:09.737369"
    },
    "collapsed": true
   },
   "outputs": [],
   "source": [
    "def create_topology_object(m):\n",
    "    \"\"\"Create the top-level topology object\"\"\"\n",
    "    topo = PyJSON()\n",
    "    topo.atomArray = create_atom_array(m.atoms)\n",
    "    topo.bondArray = create_bonds(m)\n",
    "    if m.num_residues > 1:\n",
    "        topo.groups = create_groups(m)\n",
    "    topo.charge = m.charge.value_in(u.q_e)\n",
    "    return topo"
   ]
  },
  {
   "cell_type": "code",
   "execution_count": 10,
   "metadata": {
    "ExecuteTime": {
     "end_time": "2016-09-24T21:23:29.449260",
     "start_time": "2016-09-24T21:23:29.442640"
    },
    "collapsed": true
   },
   "outputs": [],
   "source": [
    "def create_states(m):\n",
    "    \"\"\"Create a list of states from a molecule or trajectory\n",
    "    \"\"\"\n",
    "    states = []\n",
    "    if isinstance(m, mdt.Molecule):\n",
    "         states.append(make_state(m,\n",
    "                                  positions=m.positions,\n",
    "                                  momenta=m.momenta,\n",
    "                                  properties=m.properties,\n",
    "                                  ))\n",
    "    else:\n",
    "        assert isinstance(m, mdt.Trajectory)\n",
    "        for frame in m.frames:\n",
    "            states.append(make_state(m,\n",
    "                                     positions=frame.state,\n",
    "                                     momenta=frame.momenta,\n",
    "                                     properties=m.properties))\n",
    "    return states"
   ]
  },
  {
   "cell_type": "code",
   "execution_count": 16,
   "metadata": {
    "ExecuteTime": {
     "end_time": "2016-09-24T21:32:28.483677",
     "start_time": "2016-09-24T21:32:28.479351"
    },
    "collapsed": true
   },
   "outputs": [],
   "source": [
    "def create_quantity(q):\n",
    "    units = q.units\n",
    "    q = q.defunits().magnitude\n",
    "    \n",
    "    try: q = q.tolist()\n",
    "    except AttributeError: pass\n",
    "    \n",
    "    return PyJSON(val=q,\n",
    "                  units=str(units))"
   ]
  },
  {
   "cell_type": "markdown",
   "metadata": {
    "ExecuteTime": {
     "end_time": "2016-09-24T20:00:02.276022",
     "start_time": "2016-09-24T20:00:02.260687"
    }
   },
   "source": [
    "### Topology components\n",
    "\n",
    "The routines in this section create various parts of the topology data structure."
   ]
  },
  {
   "cell_type": "code",
   "execution_count": 16,
   "metadata": {
    "ExecuteTime": {
     "end_time": "2016-09-24T19:39:09.825546",
     "start_time": "2016-09-24T19:39:09.808493"
    },
    "collapsed": true
   },
   "outputs": [],
   "source": [
    "def create_groups(m):\n",
    "    \"\"\"Create 'groups' (will be residues and chains for biomolecules)\"\"\"\n",
    "    return PyJSON(residueArray=create_residue_array(m.residues),\n",
    "                   chainArray=create_chain_array(m.chains))"
   ]
  },
  {
   "cell_type": "code",
   "execution_count": 13,
   "metadata": {
    "ExecuteTime": {
     "end_time": "2016-09-24T21:30:28.604551",
     "start_time": "2016-09-24T21:30:28.599800"
    },
    "collapsed": false
   },
   "outputs": [],
   "source": [
    "def create_atom_array(atoms):\n",
    "    \"\"\"Creates the atomArray JSON object\"\"\"\n",
    "    return PyJSON(names=[atom.name for atom in atoms],\n",
    "                   atomicNumbers=[atom.atnum for atom in atoms],\n",
    "                   formalCharges=[atom.formal_charge.value_in(u.q_e) for atom in atoms],\n",
    "                   sequenceNumbers=[atom.pdbindex for atom in atoms],\n",
    "                   masses=create_quantity(u.array([atom.mass for atom in atoms]))\n",
    "                  )"
   ]
  },
  {
   "cell_type": "code",
   "execution_count": 26,
   "metadata": {
    "ExecuteTime": {
     "end_time": "2016-09-24T19:40:16.050407",
     "start_time": "2016-09-24T19:40:16.033459"
    },
    "collapsed": true
   },
   "outputs": [],
   "source": [
    "def create_bonds(m):\n",
    "    \"\"\"Creates the bondArray JSON object\"\"\"\n",
    "    return PyJSON(atomIndices=[(b.a1.index, b.a2.index) for b in m.bonds],\n",
    "                   lewisOrders=[b.order for b in m.bonds],\n",
    "                   wibergOrders=[None for b in m.bonds])"
   ]
  },
  {
   "cell_type": "code",
   "execution_count": 27,
   "metadata": {
    "ExecuteTime": {
     "end_time": "2016-09-24T19:40:16.200024",
     "start_time": "2016-09-24T19:40:16.182904"
    },
    "collapsed": true
   },
   "outputs": [],
   "source": [
    "def create_residue_array(residues):\n",
    "    \"\"\"Creates the residueArray JSON object\"\"\"\n",
    "    return PyJSON(residueCodes=[r.resname for r in residues],  # 3 letter residue codes\n",
    "                   sequenceNumbers=[r.pdbindex for r in residues],\n",
    "                   atomIndices=[[atom for atom in r.atoms] for r in residues])"
   ]
  },
  {
   "cell_type": "code",
   "execution_count": 28,
   "metadata": {
    "ExecuteTime": {
     "end_time": "2016-09-24T19:40:16.348403",
     "start_time": "2016-09-24T19:40:16.331686"
    },
    "collapsed": true
   },
   "outputs": [],
   "source": [
    "def create_chain_array(chains):\n",
    "    \"\"\"Creates the chainArray JSON object\"\"\"\n",
    "    return PyJSON(chainNames=[c.name for c in chains],\n",
    "                   residueIndices=[[residue.index for residue in c.residues] for c in chains])"
   ]
  },
  {
   "cell_type": "markdown",
   "metadata": {
    "ExecuteTime": {
     "end_time": "2016-09-24T20:04:32.532860",
     "start_time": "2016-09-24T20:04:32.517131"
    }
   },
   "source": [
    "### State components\n",
    "\n",
    "Routines here create parts of the `state` data structures."
   ]
  },
  {
   "cell_type": "code",
   "execution_count": null,
   "metadata": {
    "collapsed": true
   },
   "outputs": [],
   "source": [
    "def make_state(mol, positions=None, momenta=None, properties=None, time=None, step=None, description=None):\n",
    "    \"\"\"Creates a dynamical state object\"\"\"\n",
    "    state = PyJSON()\n",
    "    if positions is not None:\n",
    "        state.positions = create_quantity(positions)\n",
    "    if momenta is not None:\n",
    "        state.momenta = create_quantity(momenta)\n",
    "    if time is not None:\n",
    "        state.time = create_quantity(time)\n",
    "    if step is not None:\n",
    "        state.step = step\n",
    "    if description is not None:\n",
    "        state.description = description\n",
    "    if properties:\n",
    "        state.calculated = create_properties(mol, properties)\n",
    "    return state"
   ]
  },
  {
   "cell_type": "code",
   "execution_count": 9,
   "metadata": {
    "ExecuteTime": {
     "end_time": "2016-09-24T21:23:07.536698",
     "start_time": "2016-09-24T21:23:07.532427"
    },
    "collapsed": true
   },
   "outputs": [],
   "source": [
    "def create_properties(mol, properties):\n",
    "    \"\"\"Create a `properties` object that stores calculated properties\"\"\"\n",
    "    props = PyJSON()\n",
    "    props.energy_model = mol.energy_model.__class__.__name__\n",
    "    props.parameters = PyJSON(mol.energy_model.params)\n",
    "    props.update(properties)\n",
    "    return props"
   ]
  }
 ],
 "metadata": {
  "kernelspec": {
   "display_name": "Python 2",
   "language": "python",
   "name": "python2"
  },
  "language_info": {
   "codemirror_mode": {
    "name": "ipython",
    "version": 2
   },
   "file_extension": ".py",
   "mimetype": "text/x-python",
   "name": "python",
   "nbconvert_exporter": "python",
   "pygments_lexer": "ipython2",
   "version": "2.7.12"
  }
 },
 "nbformat": 4,
 "nbformat_minor": 1
}
