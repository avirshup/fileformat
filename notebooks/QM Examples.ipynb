{
 "cells": [
  {
   "cell_type": "markdown",
   "metadata": {},
   "source": [
    "For those unfamiliar with notebooks:<br>\n",
    "In the toolbar above, select `Cell > Run All` to run the entire notebook; you can then scroll down to examine the output."
   ]
  },
  {
   "cell_type": "code",
   "execution_count": 1,
   "metadata": {
    "ExecuteTime": {
     "end_time": "2016-09-24T20:58:36.819146",
     "start_time": "2016-09-24T20:58:35.212362"
    },
    "collapsed": false
   },
   "outputs": [
    {
     "name": "stdout",
     "output_type": "stream",
     "text": [
      "Reading configuration from /Users/aaronvirshup/.moldesign/moldesign.yml\n"
     ]
    }
   ],
   "source": [
    "import moldesign as mdt\n",
    "from moldesign import units as u"
   ]
  },
  {
   "cell_type": "markdown",
   "metadata": {},
   "source": [
    "This next cell imports the `convert` and `convert_trajectory` routines from another notebook"
   ]
  },
  {
   "cell_type": "code",
   "execution_count": 2,
   "metadata": {
    "ExecuteTime": {
     "end_time": "2016-09-24T20:58:36.921213",
     "start_time": "2016-09-24T20:58:36.820668"
    },
    "collapsed": false
   },
   "outputs": [],
   "source": [
    "%run moldesign_to_json.ipynb"
   ]
  },
  {
   "cell_type": "markdown",
   "metadata": {},
   "source": [
    "## Example: benzene RHF/6-31g"
   ]
  },
  {
   "cell_type": "code",
   "execution_count": 3,
   "metadata": {
    "ExecuteTime": {
     "end_time": "2016-09-24T20:58:39.887716",
     "start_time": "2016-09-24T20:58:38.202099"
    },
    "collapsed": false
   },
   "outputs": [
    {
     "name": "stdout",
     "output_type": "stream",
     "text": [
      "WARNING: assigned name Z to unnamed chain object @ 0xffffffe0\n"
     ]
    }
   ],
   "source": [
    "benzene_rhf = mdt.from_smiles('c1ccccc1')\n",
    "benzene_rhf.set_energy_model(mdt.models.RHF, basis='6-31g')\n",
    "benzene_rhf.calculate()\n",
    "benzene_rhf.draw_orbitals()"
   ]
  },
  {
   "cell_type": "code",
   "execution_count": 54,
   "metadata": {
    "ExecuteTime": {
     "end_time": "2016-09-24T21:32:43.078681",
     "start_time": "2016-09-24T21:32:43.021933"
    },
    "collapsed": false
   },
   "outputs": [],
   "source": [
    "%run moldesign_to_json.ipynb"
   ]
  },
  {
   "cell_type": "code",
   "execution_count": 55,
   "metadata": {
    "ExecuteTime": {
     "end_time": "2016-09-24T21:32:43.219276",
     "start_time": "2016-09-24T21:32:43.175596"
    },
    "collapsed": false
   },
   "outputs": [
    {
     "data": {
      "text/html": [
       "<div id=\"1\" style=\"height: 600px; width:100%;\"></div>"
      ]
     },
     "metadata": {},
     "output_type": "display_data"
    },
    {
     "ename": "TypeError",
     "evalue": "keys must be a string",
     "output_type": "error",
     "traceback": [
      "\u001b[0;31m---------------------------------------------------------------------------\u001b[0m",
      "\u001b[0;31mTypeError\u001b[0m                                 Traceback (most recent call last)",
      "\u001b[0;32m<ipython-input-55-4e59246f2366>\u001b[0m in \u001b[0;36m<module>\u001b[0;34m()\u001b[0m\n\u001b[1;32m      1\u001b[0m \u001b[0mbenzene_json\u001b[0m \u001b[0;34m=\u001b[0m \u001b[0mconvert\u001b[0m\u001b[0;34m(\u001b[0m\u001b[0mbenzene_rhf\u001b[0m\u001b[0;34m,\u001b[0m \u001b[0mprovenance\u001b[0m\u001b[0;34m=\u001b[0m\u001b[0mPyJSON\u001b[0m\u001b[0;34m(\u001b[0m\u001b[0mroutine\u001b[0m\u001b[0;34m=\u001b[0m\u001b[0;34m'moldesign.from_smiles'\u001b[0m\u001b[0;34m,\u001b[0m \u001b[0minput\u001b[0m\u001b[0;34m=\u001b[0m\u001b[0;34m'c1ccccc1'\u001b[0m\u001b[0;34m)\u001b[0m\u001b[0;34m)\u001b[0m\u001b[0;34m\u001b[0m\u001b[0m\n\u001b[0;32m----> 2\u001b[0;31m \u001b[0mbenzene_json\u001b[0m\u001b[0;34m.\u001b[0m\u001b[0mdisplay\u001b[0m\u001b[0;34m(\u001b[0m\u001b[0;34m)\u001b[0m\u001b[0;34m\u001b[0m\u001b[0m\n\u001b[0m",
      "\u001b[0;32m<ipython-input-54-8aad9ebbeb15>\u001b[0m in \u001b[0;36mdisplay\u001b[0;34m(self)\u001b[0m\n\u001b[1;32m     20\u001b[0m         display_javascript(('require([\"https://rawgit.com/caldwell/renderjson/master/renderjson.js\"], function() {'\n\u001b[1;32m     21\u001b[0m                             \u001b[0;34m\"\\ndocument.getElementById('%s').appendChild(renderjson(%s))\"\u001b[0m\u001b[0;34m\u001b[0m\u001b[0m\n\u001b[0;32m---> 22\u001b[0;31m                             \"\\n});\") % (self.COUNTER, self.dumps()), raw=True)\n\u001b[0m",
      "\u001b[0;32m<ipython-input-54-8aad9ebbeb15>\u001b[0m in \u001b[0;36mdumps\u001b[0;34m(self)\u001b[0m\n\u001b[1;32m     11\u001b[0m         \u001b[0;32mreturn\u001b[0m \u001b[0mself\u001b[0m\u001b[0;34m.\u001b[0m\u001b[0mkeys\u001b[0m\u001b[0;34m(\u001b[0m\u001b[0;34m)\u001b[0m\u001b[0;34m\u001b[0m\u001b[0m\n\u001b[1;32m     12\u001b[0m     \u001b[0;32mdef\u001b[0m \u001b[0mdumps\u001b[0m\u001b[0;34m(\u001b[0m\u001b[0mself\u001b[0m\u001b[0;34m)\u001b[0m\u001b[0;34m:\u001b[0m\u001b[0;34m\u001b[0m\u001b[0m\n\u001b[0;32m---> 13\u001b[0;31m         \u001b[0;32mreturn\u001b[0m \u001b[0mjson\u001b[0m\u001b[0;34m.\u001b[0m\u001b[0mdumps\u001b[0m\u001b[0;34m(\u001b[0m\u001b[0mself\u001b[0m\u001b[0;34m)\u001b[0m\u001b[0;34m\u001b[0m\u001b[0m\n\u001b[0m\u001b[1;32m     14\u001b[0m     \u001b[0;32mdef\u001b[0m \u001b[0mdisplay\u001b[0m\u001b[0;34m(\u001b[0m\u001b[0mself\u001b[0m\u001b[0;34m)\u001b[0m\u001b[0;34m:\u001b[0m\u001b[0;34m\u001b[0m\u001b[0m\n\u001b[1;32m     15\u001b[0m         \u001b[0;34m\"\"\"From http://stackoverflow.com/questions/18873066\"\"\"\u001b[0m\u001b[0;34m\u001b[0m\u001b[0m\n",
      "\u001b[0;32m/usr/local/Cellar/python/2.7.12/Frameworks/Python.framework/Versions/2.7/lib/python2.7/json/__init__.pyc\u001b[0m in \u001b[0;36mdumps\u001b[0;34m(obj, skipkeys, ensure_ascii, check_circular, allow_nan, cls, indent, separators, encoding, default, sort_keys, **kw)\u001b[0m\n\u001b[1;32m    242\u001b[0m         \u001b[0mcls\u001b[0m \u001b[0;32mis\u001b[0m \u001b[0mNone\u001b[0m \u001b[0;32mand\u001b[0m \u001b[0mindent\u001b[0m \u001b[0;32mis\u001b[0m \u001b[0mNone\u001b[0m \u001b[0;32mand\u001b[0m \u001b[0mseparators\u001b[0m \u001b[0;32mis\u001b[0m \u001b[0mNone\u001b[0m \u001b[0;32mand\u001b[0m\u001b[0;34m\u001b[0m\u001b[0m\n\u001b[1;32m    243\u001b[0m         encoding == 'utf-8' and default is None and not sort_keys and not kw):\n\u001b[0;32m--> 244\u001b[0;31m         \u001b[0;32mreturn\u001b[0m \u001b[0m_default_encoder\u001b[0m\u001b[0;34m.\u001b[0m\u001b[0mencode\u001b[0m\u001b[0;34m(\u001b[0m\u001b[0mobj\u001b[0m\u001b[0;34m)\u001b[0m\u001b[0;34m\u001b[0m\u001b[0m\n\u001b[0m\u001b[1;32m    245\u001b[0m     \u001b[0;32mif\u001b[0m \u001b[0mcls\u001b[0m \u001b[0;32mis\u001b[0m \u001b[0mNone\u001b[0m\u001b[0;34m:\u001b[0m\u001b[0;34m\u001b[0m\u001b[0m\n\u001b[1;32m    246\u001b[0m         \u001b[0mcls\u001b[0m \u001b[0;34m=\u001b[0m \u001b[0mJSONEncoder\u001b[0m\u001b[0;34m\u001b[0m\u001b[0m\n",
      "\u001b[0;32m/usr/local/Cellar/python/2.7.12/Frameworks/Python.framework/Versions/2.7/lib/python2.7/json/encoder.pyc\u001b[0m in \u001b[0;36mencode\u001b[0;34m(self, o)\u001b[0m\n\u001b[1;32m    205\u001b[0m         \u001b[0;31m# exceptions aren't as detailed.  The list call should be roughly\u001b[0m\u001b[0;34m\u001b[0m\u001b[0;34m\u001b[0m\u001b[0m\n\u001b[1;32m    206\u001b[0m         \u001b[0;31m# equivalent to the PySequence_Fast that ''.join() would do.\u001b[0m\u001b[0;34m\u001b[0m\u001b[0;34m\u001b[0m\u001b[0m\n\u001b[0;32m--> 207\u001b[0;31m         \u001b[0mchunks\u001b[0m \u001b[0;34m=\u001b[0m \u001b[0mself\u001b[0m\u001b[0;34m.\u001b[0m\u001b[0miterencode\u001b[0m\u001b[0;34m(\u001b[0m\u001b[0mo\u001b[0m\u001b[0;34m,\u001b[0m \u001b[0m_one_shot\u001b[0m\u001b[0;34m=\u001b[0m\u001b[0mTrue\u001b[0m\u001b[0;34m)\u001b[0m\u001b[0;34m\u001b[0m\u001b[0m\n\u001b[0m\u001b[1;32m    208\u001b[0m         \u001b[0;32mif\u001b[0m \u001b[0;32mnot\u001b[0m \u001b[0misinstance\u001b[0m\u001b[0;34m(\u001b[0m\u001b[0mchunks\u001b[0m\u001b[0;34m,\u001b[0m \u001b[0;34m(\u001b[0m\u001b[0mlist\u001b[0m\u001b[0;34m,\u001b[0m \u001b[0mtuple\u001b[0m\u001b[0;34m)\u001b[0m\u001b[0;34m)\u001b[0m\u001b[0;34m:\u001b[0m\u001b[0;34m\u001b[0m\u001b[0m\n\u001b[1;32m    209\u001b[0m             \u001b[0mchunks\u001b[0m \u001b[0;34m=\u001b[0m \u001b[0mlist\u001b[0m\u001b[0;34m(\u001b[0m\u001b[0mchunks\u001b[0m\u001b[0;34m)\u001b[0m\u001b[0;34m\u001b[0m\u001b[0m\n",
      "\u001b[0;32m/usr/local/Cellar/python/2.7.12/Frameworks/Python.framework/Versions/2.7/lib/python2.7/json/encoder.pyc\u001b[0m in \u001b[0;36miterencode\u001b[0;34m(self, o, _one_shot)\u001b[0m\n\u001b[1;32m    268\u001b[0m                 \u001b[0mself\u001b[0m\u001b[0;34m.\u001b[0m\u001b[0mkey_separator\u001b[0m\u001b[0;34m,\u001b[0m \u001b[0mself\u001b[0m\u001b[0;34m.\u001b[0m\u001b[0mitem_separator\u001b[0m\u001b[0;34m,\u001b[0m \u001b[0mself\u001b[0m\u001b[0;34m.\u001b[0m\u001b[0msort_keys\u001b[0m\u001b[0;34m,\u001b[0m\u001b[0;34m\u001b[0m\u001b[0m\n\u001b[1;32m    269\u001b[0m                 self.skipkeys, _one_shot)\n\u001b[0;32m--> 270\u001b[0;31m         \u001b[0;32mreturn\u001b[0m \u001b[0m_iterencode\u001b[0m\u001b[0;34m(\u001b[0m\u001b[0mo\u001b[0m\u001b[0;34m,\u001b[0m \u001b[0;36m0\u001b[0m\u001b[0;34m)\u001b[0m\u001b[0;34m\u001b[0m\u001b[0m\n\u001b[0m\u001b[1;32m    271\u001b[0m \u001b[0;34m\u001b[0m\u001b[0m\n\u001b[1;32m    272\u001b[0m def _make_iterencode(markers, _default, _encoder, _indent, _floatstr,\n",
      "\u001b[0;31mTypeError\u001b[0m: keys must be a string"
     ]
    }
   ],
   "source": [
    "benzene_json = convert(benzene_rhf, provenance=PyJSON(routine='moldesign.from_smiles', input='c1ccccc1'))\n",
    "benzene_json.display()"
   ]
  },
  {
   "cell_type": "code",
   "execution_count": 57,
   "metadata": {
    "ExecuteTime": {
     "end_time": "2016-09-24T21:33:01.987580",
     "start_time": "2016-09-24T21:33:01.957134"
    },
    "collapsed": false
   },
   "outputs": [
    {
     "data": {
      "text/plain": [
       "{'name': 'c1ccccc1',\n",
       " 'provenance': {'input': 'c1ccccc1', 'routine': 'moldesign.from_smiles'},\n",
       " 'states': [{'calculated': {'energy_model': 'RHF',\n",
       "    'mulliken': {<Atom C1 (elem C), index 1 in molecule Molecule: c1ccccc1>: -0.20047890654528366,\n",
       "     <Atom C3 (elem C), index 3 in molecule Molecule: c1ccccc1>: -0.19979310613141443,\n",
       "     <Atom C2 (elem C), index 2 in molecule Molecule: c1ccccc1>: -0.20046908875617131,\n",
       "     <Atom C4 (elem C), index 4 in molecule Molecule: c1ccccc1>: -0.20047754745809154,\n",
       "     <Atom C5 (elem C), index 5 in molecule Molecule: c1ccccc1>: -0.2004667425860589,\n",
       "     <Atom H6 (elem H), index 6 in molecule Molecule: c1ccccc1>: 0.20039009335838087,\n",
       "     <Atom H7 (elem H), index 7 in molecule Molecule: c1ccccc1>: 0.20017196374102486,\n",
       "     <Atom H8 (elem H), index 8 in molecule Molecule: c1ccccc1>: 0.20017388454155705,\n",
       "     <Atom H9 (elem H), index 9 in molecule Molecule: c1ccccc1>: 0.20039079659257752,\n",
       "     <Atom H10 (elem H), index 10 in molecule Molecule: c1ccccc1>: 0.20017491030913437,\n",
       "     <Atom H11 (elem H), index 11 in molecule Molecule: c1ccccc1>: 0.20017596965132611,\n",
       "     <Atom C0 (elem C), index 0 in molecule Molecule: c1ccccc1>: -0.19979222671698604,\n",
       "     'type': 'atomic'},\n",
       "    'parameters': {'active_electrons': 2,\n",
       "     'active_orbitals': 2,\n",
       "     'basis': '6-31g',\n",
       "     'functional': 'b3lyp',\n",
       "     'initial_guess': <ElectronicWfn (RHF/6-31g) of Molecule: c1ccccc1>,\n",
       "     'multiplicity': 1,\n",
       "     'state_average': 1,\n",
       "     'store_orb_guesses': True,\n",
       "     'symmetry': None,\n",
       "     'theory': 'rhf',\n",
       "     'wfn_guess': 'stored'},\n",
       "    'positions': <Quantity([[-0.76003939  1.16931777  0.02273989]\n",
       "     [ 0.63314801  1.24365634 -0.01297972]\n",
       "     [ 1.39390687  0.07715829 -0.01219047]\n",
       "     [ 0.76420701 -1.16771399  0.02607069]\n",
       "     [-0.62892137 -1.24214511 -0.01176279]\n",
       "     [-1.38970359 -0.07563803 -0.01404977]\n",
       "     [-1.35228281  2.07744326  0.07335895]\n",
       "     [ 1.12359729  2.21377987 -0.03743226]\n",
       "     [ 2.47942692  0.13476646 -0.03728615]\n",
       "     [ 1.35645662 -2.07566747  0.07956663]\n",
       "     [-1.11923781 -2.21235811 -0.03556534]\n",
       "     [-2.47520148 -0.13328568 -0.0403233 ]], 'ang')>,\n",
       "    'potential_energy': <Quantity(-6275.56603628, 'eV')>,\n",
       "    'wfn': <ElectronicWfn (RHF/6-31g) of Molecule: c1ccccc1>},\n",
       "   'momenta': {'units': 'amu * ang / fs',\n",
       "    'val': [[0.0, 0.0, 0.0],\n",
       "     [0.0, 0.0, 0.0],\n",
       "     [0.0, 0.0, 0.0],\n",
       "     [0.0, 0.0, 0.0],\n",
       "     [0.0, 0.0, 0.0],\n",
       "     [0.0, 0.0, 0.0],\n",
       "     [0.0, 0.0, 0.0],\n",
       "     [0.0, 0.0, 0.0],\n",
       "     [0.0, 0.0, 0.0],\n",
       "     [0.0, 0.0, 0.0],\n",
       "     [0.0, 0.0, 0.0],\n",
       "     [0.0, 0.0, 0.0]]},\n",
       "   'positions': {'units': 'ang',\n",
       "    'val': [[-0.7600393878004034, 1.169317766548378, 0.022739894309295804],\n",
       "     [0.633148008500035, 1.2436563416847406, -0.01297971792528021],\n",
       "     [1.3939068728064123, 0.07715829285434608, -0.012190468139642564],\n",
       "     [0.7642070073252808, -1.1677139940412251, 0.026070687943802504],\n",
       "     [-0.6289213719927621, -1.242145109787333, -0.011762787502123388],\n",
       "     [-1.3897035855916506, -0.07563802972338586, -0.014049765165147275],\n",
       "     [-1.3522828146986914, 2.0774432562507017, 0.07335894746372858],\n",
       "     [1.1235972914240753, 2.2137798696636555, -0.03743225518970724],\n",
       "     [2.4794269159522213, 0.1347664565676247, -0.03728615026587764],\n",
       "     [1.3564566204291466, -2.075667465272563, 0.0795666345513396],\n",
       "     [-1.1192378060807548, -2.2123581091595033, -0.03556533637652655],\n",
       "     [-2.475201477066118, -0.13328568068652738, -0.04032329578119009]]}}],\n",
       " 'topology': {'atomArray': {'atomicNumbers': [6,\n",
       "    6,\n",
       "    6,\n",
       "    6,\n",
       "    6,\n",
       "    6,\n",
       "    1,\n",
       "    1,\n",
       "    1,\n",
       "    1,\n",
       "    1,\n",
       "    1],\n",
       "   'formalCharges': [0, 0, 0, 0, 0, 0, 0, 0, 0, 0, 0, 0],\n",
       "   'masses': {'units': 'amu',\n",
       "    'val': [12.0,\n",
       "     12.0,\n",
       "     12.0,\n",
       "     12.0,\n",
       "     12.0,\n",
       "     12.0,\n",
       "     1.007825,\n",
       "     1.007825,\n",
       "     1.007825,\n",
       "     1.007825,\n",
       "     1.007825,\n",
       "     1.007825]},\n",
       "   'names': ['C0',\n",
       "    'C1',\n",
       "    'C2',\n",
       "    'C3',\n",
       "    'C4',\n",
       "    'C5',\n",
       "    'H6',\n",
       "    'H7',\n",
       "    'H8',\n",
       "    'H9',\n",
       "    'H10',\n",
       "    'H11'],\n",
       "   'sequenceNumbers': [1, 2, 3, 4, 5, 6, 7, 8, 9, 10, 11, 12]},\n",
       "  'bondArray': {'atomIndices': [(4, 10),\n",
       "    (4, 5),\n",
       "    (2, 3),\n",
       "    (2, 8),\n",
       "    (0, 5),\n",
       "    (0, 1),\n",
       "    (0, 6),\n",
       "    (1, 7),\n",
       "    (1, 2),\n",
       "    (5, 11),\n",
       "    (3, 9),\n",
       "    (3, 4)],\n",
       "   'lewisOrders': [1, 2, 2, 1, 1, 2, 1, 1, 1, 1, 1, 1],\n",
       "   'wibergOrders': [None,\n",
       "    None,\n",
       "    None,\n",
       "    None,\n",
       "    None,\n",
       "    None,\n",
       "    None,\n",
       "    None,\n",
       "    None,\n",
       "    None,\n",
       "    None,\n",
       "    None]},\n",
       "  'charge': 0}}"
      ]
     },
     "execution_count": 57,
     "metadata": {},
     "output_type": "execute_result"
    }
   ],
   "source": [
    "benzene_json"
   ]
  },
  {
   "cell_type": "code",
   "execution_count": null,
   "metadata": {
    "collapsed": true
   },
   "outputs": [],
   "source": []
  }
 ],
 "metadata": {
  "kernelspec": {
   "display_name": "Python 2",
   "language": "python",
   "name": "python2"
  },
  "language_info": {
   "codemirror_mode": {
    "name": "ipython",
    "version": 2
   },
   "file_extension": ".py",
   "mimetype": "text/x-python",
   "name": "python",
   "nbconvert_exporter": "python",
   "pygments_lexer": "ipython2",
   "version": "2.7.12"
  },
  "widgets": {
   "state": {
    "07c7a3af56bc4694bd0e1f6e24cf2a05": {
     "views": [
      {
       "cell_index": 5
      }
     ]
    },
    "0fe53193e6e147dc800a051d193ae585": {
     "views": [
      {
       "cell_index": 5
      }
     ]
    }
   },
   "version": "1.2.0"
  }
 },
 "nbformat": 4,
 "nbformat_minor": 1
}
